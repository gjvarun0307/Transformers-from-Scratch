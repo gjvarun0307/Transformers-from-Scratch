{
 "cells": [
  {
   "cell_type": "code",
   "execution_count": 7,
   "id": "5fe292cd",
   "metadata": {},
   "outputs": [],
   "source": [
    "# imports\n",
    "\n",
    "import torch\n",
    "import torch.nn as nn\n",
    "from config import get_config, get_weights_file_path\n",
    "from train import get_model, get_validation, get_ds"
   ]
  },
  {
   "cell_type": "code",
   "execution_count": 8,
   "id": "f5dfc736",
   "metadata": {},
   "outputs": [
    {
     "name": "stdout",
     "output_type": "stream",
     "text": [
      "using device: cpu\n",
      "Max length of src sentence: 309\n",
      "Max length of trg sentence: 274\n"
     ]
    },
    {
     "data": {
      "text/plain": [
       "<All keys matched successfully>"
      ]
     },
     "execution_count": 8,
     "metadata": {},
     "output_type": "execute_result"
    }
   ],
   "source": [
    "device = torch.device(\"cuda\" if torch.cuda.is_available() else \"cpu\")\n",
    "print(\"using device:\", device)\n",
    "\n",
    "config = get_config()\n",
    "train_dataloader, val_dataloader, tokenizer_src, tokenizer_trg = get_ds(config)\n",
    "model = get_model(config, tokenizer_src.get_vocab_size(), tokenizer_trg.get_vocab_size()).to(device)\n",
    "\n",
    "# load pretrained model\n",
    "model_path = \"/Users/varun/Hecker/Playground/Project/Transformers from Scratch/models/opus-en-it/tmodel_39\"\n",
    "state = torch.load(model_path, map_location=torch.device(device))\n",
    "model.load_state_dict(state[\"model_state_dict\"])"
   ]
  },
  {
   "cell_type": "code",
   "execution_count": 10,
   "id": "27beff3d",
   "metadata": {},
   "outputs": [
    {
     "name": "stdout",
     "output_type": "stream",
     "text": [
      "--------------------------------------------------------------------------------\n",
      "Source Text: Semenov, Chagin, Sigonin :..' he passed them in review. 'It's true a kind of unreasonable ridicule falls on these men, but I never could see it in any other light than as a misfortune, and felt nothing but sympathy,' Karenin reflected, though it was not true: he had never felt any sympathy of the kind, and the more cases he had come across of husbands being betrayed by their wives the better the opinion he had had of himself.\n",
      "Expected Text: Semënov, cagin, Sigonin — ricordava. — Poniamo che un certo irragionevole ridicule cada su queste persone, ma io in questo non ho visto mai altro che una sventura e ne ho sempre avuto pietà — si andava dicendo Aleksej Aleksandrovic, e non era vero che egli avesse avuto compassione per sventure di tal genere; anzi, quanto più frequenti erano i casi di mogli che tradivano i mariti, tanto più in alto egli si considerava. — Questa è una sventura che può capitare a chiunque. E questa sventura ora ha colpito me.\n",
      "predicted Text: — Ma non è la , e non è un ’ , e non non non non non non non non non non non non non non non non non non non non non non non non non non non non non non non non non non non non non non non non non non non non non non non non non non non non non non non non non non non non non non non non non non non non non non non non non non non non non non non non , e non non non non non non non non non non non non , e non non non non è un ’ , e non è un ’ , e non non non non non non non non non non non non non è un , e non , e non non non non non , e non non non non non non non non non non non non non non non non è un ’ , e non non non non non non , e non non non non non non non non non non non non non non non non non non non non non non non non non non non non non non è un , e non è un , e non non è un , e non non non non non non non non non non , e non non non non non non non non non non non non non non non non non non è la , e non è un ’ , e non è un ’ , e non è un ’ , e non non non non non non non non non non non non non non non è , e non non non non non non non non non non non non non non non non non non non non non non è , e non non non non non non non non\n",
      "--------------------------------------------------------------------------------\n",
      "Source Text: Vronsky at once guessed that Golenishchev was one of that sort, and was therefore doubly pleased to have met him; and Golenishchev behaved to Anna, when he had been introduced, as well as Vronsky could have wished.\n",
      "Expected Text: Vronskij indovinò subito che Golenišcev era uno di questi e perciò fu doppiamente contento di vederlo. Difatti Golenišcev si comportò con la Karenina, quando fu introdotto da lei, così come Vronskij poteva desiderare.\n",
      "predicted Text: Il , e la , e la , e la , e la , e la , e la , e la , e la , e la , e la .\n",
      "--------------------------------------------------------------------------------\n",
      "Source Text: Knowing your friendship for him, I feel that you will understand me.\n",
      "Expected Text: Conoscendo la vostra amicizia per lui, mi comprenderete.\n",
      "predicted Text: — Ma non è un ’ è un ’ è un ’ .\n",
      "--------------------------------------------------------------------------------\n",
      "Source Text: After a short consultation as to whether they should mow the ravine across or lengthwise, Prokhor – a gigantic dark man and a famous mower – took the lead.\n",
      "Expected Text: Dopo un breve parlottare: se andare in lungo o in largo, Prochor Ermilin, un bravo falciatore anche lui, un contadino enorme, abbronzato, andò avanti.\n",
      "predicted Text: Il , e la , e la , e la , e la , e la , e la , e la .\n",
      "--------------------------------------------------------------------------------\n",
      "Source Text: It makes him hated above all things, as I have said, to be rapacious, and to be a violator of the property and women of his subjects, from both of which he must abstain. And when neither their property nor their honor is touched, the majority of men live content, and he has only to contend with the ambition of a few, whom he can curb with ease in many ways.\n",
      "Expected Text: Odioso lo fa, sopr’a tutto, come io dissi, lo essere rapace et usurpatore della roba e delle donne de' sudditi: di che si debbe astenere; e qualunque volta alle universalità delli uomini non si toglie né roba né onore, vivono contenti, e solo si ha a combattere con la ambizione di pochi, la quale in molti modi, e con facilità si raffrena.\n",
      "predicted Text: Ma non era la , e la , e la , e la , e la , e la , e la , e la , e la , e la , e la , e la , e la , e la , e la , e la , e non , e la , e non , e la , e non , e non .\n",
      "--------------------------------------------------------------------------------\n",
      "Source Text: But it is a different matter with me. I see through his thought, and therefore know why it is weak.'\n",
      "Expected Text: Ma per me è un’altra cosa, io vedo da parte a parte le sue idee e so perché tutto questo è debole.\n",
      "predicted Text: — Ma non è un ’ è un ’ è un ’ è un ’ , e non è un ’ .\n",
      "--------------------------------------------------------------------------------\n",
      "Source Text: 'What, my dear?'\n",
      "Expected Text: — Che cosa, amica mia?\n",
      "predicted Text: — No , — disse .\n",
      "--------------------------------------------------------------------------------\n",
      "Source Text: \"I am sure, sir, I should never mistake informality for insolence: one I rather like, the other nothing free-born would submit to, even for a salary.\"\n",
      "Expected Text: — Sono certa di non confondere mai la mancanza di forma con l'impertinenza. Mi piace la prima di quelle cose; in quanto all'altra, nessuna creatura libera può tollerarla, neppur per danaro.\n",
      "predicted Text: — Ma non è un ’ è un ’ è un ’ è un ’ , e non è un ’ , e non non non non non è un ’ .\n",
      "--------------------------------------------------------------------------------\n",
      "Source Text: Vronsky rose and looking cordially into Levin's eyes pressed his hand.\n",
      "Expected Text: Vronskij si alzò e, guardando cordialmente Levin negli occhi, gli strinse la mano.\n",
      "predicted Text: Ma non è un ’ è un ’ era un ’ era un ’ .\n",
      "--------------------------------------------------------------------------------\n",
      "Source Text: 'Do you paint?' inquired Golenishchev, turning quickly to Vronsky.\n",
      "Expected Text: — Dipingi, forse? — disse Golenišcev, volgendosi in fretta a Vronskij.\n",
      "predicted Text: — Ma non è un ’ è un ’ è un ’ è .\n"
     ]
    }
   ],
   "source": [
    "get_validation(model, val_dataloader, tokenizer_src, tokenizer_trg, config['seq_len'], print, device, 10)"
   ]
  },
  {
   "cell_type": "code",
   "execution_count": null,
   "id": "59dec76f",
   "metadata": {},
   "outputs": [],
   "source": []
  }
 ],
 "metadata": {
  "kernelspec": {
   "display_name": "trans",
   "language": "python",
   "name": "python3"
  },
  "language_info": {
   "codemirror_mode": {
    "name": "ipython",
    "version": 3
   },
   "file_extension": ".py",
   "mimetype": "text/x-python",
   "name": "python",
   "nbconvert_exporter": "python",
   "pygments_lexer": "ipython3",
   "version": "3.13.5"
  }
 },
 "nbformat": 4,
 "nbformat_minor": 5
}
